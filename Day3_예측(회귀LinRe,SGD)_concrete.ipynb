{
 "cells": [
  {
   "cell_type": "code",
   "execution_count": 1,
   "metadata": {},
   "outputs": [
    {
     "data": {
      "text/html": [
       "<div>\n",
       "<style scoped>\n",
       "    .dataframe tbody tr th:only-of-type {\n",
       "        vertical-align: middle;\n",
       "    }\n",
       "\n",
       "    .dataframe tbody tr th {\n",
       "        vertical-align: top;\n",
       "    }\n",
       "\n",
       "    .dataframe thead th {\n",
       "        text-align: right;\n",
       "    }\n",
       "</style>\n",
       "<table border=\"1\" class=\"dataframe\">\n",
       "  <thead>\n",
       "    <tr style=\"text-align: right;\">\n",
       "      <th></th>\n",
       "      <th>cement</th>\n",
       "      <th>slag</th>\n",
       "      <th>ash</th>\n",
       "      <th>water</th>\n",
       "      <th>superplastic</th>\n",
       "      <th>coarseagg</th>\n",
       "      <th>fineagg</th>\n",
       "      <th>age</th>\n",
       "      <th>strength</th>\n",
       "    </tr>\n",
       "  </thead>\n",
       "  <tbody>\n",
       "    <tr>\n",
       "      <th>0</th>\n",
       "      <td>141.3</td>\n",
       "      <td>212.0</td>\n",
       "      <td>0.0</td>\n",
       "      <td>203.5</td>\n",
       "      <td>0.0</td>\n",
       "      <td>971.8</td>\n",
       "      <td>748.5</td>\n",
       "      <td>28.0</td>\n",
       "      <td>29.89</td>\n",
       "    </tr>\n",
       "    <tr>\n",
       "      <th>1</th>\n",
       "      <td>168.9</td>\n",
       "      <td>42.2</td>\n",
       "      <td>124.3</td>\n",
       "      <td>158.3</td>\n",
       "      <td>10.8</td>\n",
       "      <td>1080.8</td>\n",
       "      <td>796.2</td>\n",
       "      <td>14.0</td>\n",
       "      <td>23.51</td>\n",
       "    </tr>\n",
       "    <tr>\n",
       "      <th>2</th>\n",
       "      <td>250.0</td>\n",
       "      <td>0.0</td>\n",
       "      <td>95.7</td>\n",
       "      <td>187.4</td>\n",
       "      <td>5.5</td>\n",
       "      <td>956.9</td>\n",
       "      <td>861.2</td>\n",
       "      <td>28.0</td>\n",
       "      <td>29.22</td>\n",
       "    </tr>\n",
       "    <tr>\n",
       "      <th>3</th>\n",
       "      <td>266.0</td>\n",
       "      <td>114.0</td>\n",
       "      <td>0.0</td>\n",
       "      <td>228.0</td>\n",
       "      <td>0.0</td>\n",
       "      <td>932.0</td>\n",
       "      <td>670.0</td>\n",
       "      <td>28.0</td>\n",
       "      <td>45.85</td>\n",
       "    </tr>\n",
       "    <tr>\n",
       "      <th>4</th>\n",
       "      <td>154.8</td>\n",
       "      <td>183.4</td>\n",
       "      <td>0.0</td>\n",
       "      <td>193.3</td>\n",
       "      <td>9.1</td>\n",
       "      <td>1047.4</td>\n",
       "      <td>696.7</td>\n",
       "      <td>28.0</td>\n",
       "      <td>18.29</td>\n",
       "    </tr>\n",
       "  </tbody>\n",
       "</table>\n",
       "</div>"
      ],
      "text/plain": [
       "   cement   slag    ash  water  superplastic  coarseagg  fineagg   age  \\\n",
       "0   141.3  212.0    0.0  203.5           0.0      971.8    748.5  28.0   \n",
       "1   168.9   42.2  124.3  158.3          10.8     1080.8    796.2  14.0   \n",
       "2   250.0    0.0   95.7  187.4           5.5      956.9    861.2  28.0   \n",
       "3   266.0  114.0    0.0  228.0           0.0      932.0    670.0  28.0   \n",
       "4   154.8  183.4    0.0  193.3           9.1     1047.4    696.7  28.0   \n",
       "\n",
       "   strength  \n",
       "0     29.89  \n",
       "1     23.51  \n",
       "2     29.22  \n",
       "3     45.85  \n",
       "4     18.29  "
      ]
     },
     "execution_count": 1,
     "metadata": {},
     "output_type": "execute_result"
    }
   ],
   "source": [
    "import pandas as pd\n",
    "from pandas import DataFrame, Series\n",
    "import numpy as np\n",
    "concrete = pd.read_csv('concrete_na.csv')\n",
    "concrete.fillna(concrete.mean(0), inplace=True)\n",
    "concrete.head()"
   ]
  },
  {
   "cell_type": "code",
   "execution_count": 2,
   "metadata": {},
   "outputs": [],
   "source": [
    "X = concrete.iloc[:, [0,3]] # cement, water 2개의 회귀계수를 찾기위해서  # 팬시색인\n",
    "y = np.array(concrete.strength)"
   ]
  },
  {
   "cell_type": "code",
   "execution_count": 3,
   "metadata": {},
   "outputs": [],
   "source": [
    "# label 추가 : 예측이므로 label도 필요없음\n",
    "# concrete['label'] = pd.qcut(concrete.strength, [0, 0.5, 1.0], labels=['fail', 'pass']) \n",
    "# concrete.head()"
   ]
  },
  {
   "cell_type": "code",
   "execution_count": 4,
   "metadata": {},
   "outputs": [],
   "source": [
    "# scaling : 정규방정식을 적용하는 모델에서는 scaling하지 않음 ==> LinearRegression?보면 normalize 있다(L2 norm)\n",
    "# from sklearn.preprocessing import StandardScaler\n",
    "# scaler = StandardScaler()\n",
    "# scaled = scaler.fit_transform(concrete.iloc[:,:-1]) # label제외\n",
    "# print(f'type(scaled)  : {type(scaled)}, scaled.shape : {scaled.shape })')"
   ]
  },
  {
   "cell_type": "code",
   "execution_count": 5,
   "metadata": {},
   "outputs": [
    {
     "data": {
      "text/plain": [
       "LinearRegression(copy_X=True, fit_intercept=True, n_jobs=None, normalize=False)"
      ]
     },
     "execution_count": 5,
     "metadata": {},
     "output_type": "execute_result"
    }
   ],
   "source": [
    "from sklearn.model_selection import train_test_split\n",
    "x_train, x_test, y_train, y_test = train_test_split(X, y, test_size = 0.5)\n",
    "\n",
    "from sklearn.linear_model import LinearRegression\n",
    "lin_reg = LinearRegression()\n",
    "lin_reg.fit(x_train,y_train) # fit_intercept=True 절편, "
   ]
  },
  {
   "cell_type": "code",
   "execution_count": 6,
   "metadata": {},
   "outputs": [],
   "source": [
    "#LinearRegression?"
   ]
  },
  {
   "cell_type": "code",
   "execution_count": 7,
   "metadata": {},
   "outputs": [
    {
     "data": {
      "text/plain": [
       "array([ 0.07683069, -0.18313109])"
      ]
     },
     "execution_count": 7,
     "metadata": {},
     "output_type": "execute_result"
    }
   ],
   "source": [
    "lin_reg.coef_ # 회귀계수 2개 cement, water"
   ]
  },
  {
   "cell_type": "code",
   "execution_count": 8,
   "metadata": {},
   "outputs": [
    {
     "data": {
      "text/plain": [
       "47.14802280832527"
      ]
     },
     "execution_count": 8,
     "metadata": {},
     "output_type": "execute_result"
    }
   ],
   "source": [
    "lin_reg.intercept_ # y절편"
   ]
  },
  {
   "cell_type": "code",
   "execution_count": 9,
   "metadata": {},
   "outputs": [
    {
     "name": "stdout",
     "output_type": "stream",
     "text": [
      "type(scaled)  : <class 'numpy.ndarray'>, scaled.shape : (515, 2))\n"
     ]
    }
   ],
   "source": [
    "# scaling : 정규방정식을 적용하는 모델(LinearRegression)에서는 scaling하지 않음 ==> LinearRegression?보면 normalize 있다(L2 norm)\n",
    "#SGDRegressor?  # normalize 옵션이 없다 ====> scaling 필요하다\n",
    "# SGD는 데이터 스케일링이 필요하다\n",
    "from sklearn.preprocessing import StandardScaler\n",
    "scaler = StandardScaler()\n",
    "Xtrain_scaled = scaler.fit_transform(x_train) # label제외\n",
    "print(f'type(scaled)  : {type(Xtrain_scaled)}, scaled.shape : {Xtrain_scaled.shape })')"
   ]
  },
  {
   "cell_type": "code",
   "execution_count": 10,
   "metadata": {},
   "outputs": [
    {
     "data": {
      "text/plain": [
       "SGDRegressor(alpha=0.0001, average=False, early_stopping=False, epsilon=0.1,\n",
       "             eta0=0.1, fit_intercept=True, l1_ratio=0.15,\n",
       "             learning_rate='invscaling', loss='squared_loss', max_iter=5000,\n",
       "             n_iter_no_change=5, penalty=None, power_t=0.25, random_state=43,\n",
       "             shuffle=True, tol=0.001, validation_fraction=0.1, verbose=0,\n",
       "             warm_start=False)"
      ]
     },
     "execution_count": 10,
     "metadata": {},
     "output_type": "execute_result"
    }
   ],
   "source": [
    "from sklearn.linear_model import SGDRegressor\n",
    "sgd_reg = SGDRegressor(max_iter=5000, penalty=None, eta0=0.1, random_state=43) #n_iter  => max_iter 변경됨\n",
    " # eta0=0.1 초기 학습률\n",
    "sgd_reg.fit(Xtrain_scaled, y_train)"
   ]
  },
  {
   "cell_type": "code",
   "execution_count": 11,
   "metadata": {},
   "outputs": [
    {
     "data": {
      "text/plain": [
       "'\\n SGDClassifier 옵션중에 random_state가 있는데, 이것은 SGD의 상태를 저장하기 위한 옵션입니다.\\n SGD 모델은 위에서 말한 대로 무작위 값을 넣어보면서 최적값을 찾기 때문에 실행할 때마다 결과가 달라집니다.\\n 하지만 random_state를 지정하면 실행했던 상태를 다시 불러올 수 있기 때문에 여러 번 돌려도 똑같은 값을 출력하게 됩니다.\\n 이렇게 만든 SGD 모델에 fit 함수를 이용해 데이터와 레이블을 집어넣어 학습하면 됩니다.\\n 출처: https://cholol.tistory.com/437 [IT, I Think ]\\n'"
      ]
     },
     "execution_count": 11,
     "metadata": {},
     "output_type": "execute_result"
    }
   ],
   "source": [
    "# 규제, max_iter 최대반복회수, tol 반복시오차값, eta0 초기합습률,  verbose 에러메시지를 보여줄지, learning_rate 반대invscaling\n",
    "# normalize 옵션이 없다 ====> scaling 필요하다  ===> scaling해야 loss오차함수의 optimizer가 제대로 작동된다\n",
    "# kernel 옵션이 없다. 즉 가중치이용하지 않는다.\n",
    "\n",
    "\"\"\"\n",
    " SGDClassifier 옵션중에 random_state가 있는데, 이것은 SGD의 상태를 저장하기 위한 옵션입니다.\n",
    " SGD 모델은 위에서 말한 대로 무작위 값을 넣어보면서 최적값을 찾기 때문에 실행할 때마다 결과가 달라집니다.\n",
    " 하지만 random_state를 지정하면 실행했던 상태를 다시 불러올 수 있기 때문에 여러 번 돌려도 똑같은 값을 출력하게 됩니다.\n",
    " 이렇게 만든 SGD 모델에 fit 함수를 이용해 데이터와 레이블을 집어넣어 학습하면 됩니다.\n",
    " 출처: https://cholol.tistory.com/437 [IT, I Think ]\n",
    "\"\"\""
   ]
  },
  {
   "cell_type": "code",
   "execution_count": 12,
   "metadata": {},
   "outputs": [
    {
     "data": {
      "text/plain": [
       "(array([ 0.07683069, -0.18313109]), 47.14802280832527)"
      ]
     },
     "execution_count": 12,
     "metadata": {},
     "output_type": "execute_result"
    }
   ],
   "source": [
    "lin_reg.coef_, lin_reg.intercept_"
   ]
  },
  {
   "cell_type": "code",
   "execution_count": null,
   "metadata": {},
   "outputs": [],
   "source": [
    "Xtest_scaled = scaler."
   ]
  },
  {
   "cell_type": "code",
   "execution_count": null,
   "metadata": {},
   "outputs": [],
   "source": [
    "# 분류테스트의 score accuracy와 다르다"
   ]
  },
  {
   "cell_type": "code",
   "execution_count": 13,
   "metadata": {},
   "outputs": [],
   "source": [
    "from sklearn.linear_model import Ridge\n",
    "Ridge?"
   ]
  },
  {
   "cell_type": "code",
   "execution_count": null,
   "metadata": {},
   "outputs": [],
   "source": []
  }
 ],
 "metadata": {
  "kernelspec": {
   "display_name": "Python 3",
   "language": "python",
   "name": "python3"
  },
  "language_info": {
   "codemirror_mode": {
    "name": "ipython",
    "version": 3
   },
   "file_extension": ".py",
   "mimetype": "text/x-python",
   "name": "python",
   "nbconvert_exporter": "python",
   "pygments_lexer": "ipython3",
   "version": "3.7.3"
  }
 },
 "nbformat": 4,
 "nbformat_minor": 2
}
