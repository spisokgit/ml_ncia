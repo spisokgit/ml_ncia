{
 "cells": [
  {
   "cell_type": "markdown",
   "metadata": {},
   "source": [
    "\n",
    "\n",
    "## 개요\n",
    "* 객체생성\n",
    "* 색인 (정수, 슬라이스, 불리언, 팬시)\n",
    "* 유니버셜 함수\n"
   ]
  },
  {
   "cell_type": "code",
   "execution_count": 1,
   "metadata": {},
   "outputs": [],
   "source": [
    "#객체생성\n",
    "import numpy as np\n",
    "a1 = np.array([1,2,3])\n",
    "a2 = np.array([[1,2,3],[4,5,6]])"
   ]
  },
  {
   "cell_type": "code",
   "execution_count": 15,
   "metadata": {},
   "outputs": [
    {
     "name": "stdout",
     "output_type": "stream",
     "text": [
      "a1[1]:2\n",
      "a2[1]:[4 5 6]\n"
     ]
    }
   ],
   "source": [
    "#정수색인\n",
    "print(f'a1[1]:{a1[1]}')\n",
    "print(f'a2[1]:{a2[1]}')"
   ]
  },
  {
   "cell_type": "code",
   "execution_count": 3,
   "metadata": {},
   "outputs": [
    {
     "name": "stdout",
     "output_type": "stream",
     "text": [
      "a1[1:]:[2 3]\n",
      ", a2[:,1:]:[[2 3]\n",
      " [5 6]]\n"
     ]
    }
   ],
   "source": [
    "#슬라이스색인\n",
    "print(f'a1[1:]:{a1[1:]}\\n, a2[:,1:]:{a2[:,1:]}')"
   ]
  },
  {
   "cell_type": "code",
   "execution_count": 4,
   "metadata": {},
   "outputs": [
    {
     "name": "stdout",
     "output_type": "stream",
     "text": [
      "a1[a1<3]:[1 2], a2[a2<3]:[1 2]\n"
     ]
    }
   ],
   "source": [
    "#불리언색인\n",
    "print(f'a1[a1<3]:{a1[a1<3]}, a2[a2<3]:{a2[a2<3]}')"
   ]
  },
  {
   "cell_type": "code",
   "execution_count": 14,
   "metadata": {},
   "outputs": [
    {
     "name": "stdout",
     "output_type": "stream",
     "text": [
      "a1[[2,0]]:[3 1]\n",
      "a2[[1,0],[1,2]]:[5 3]\n"
     ]
    }
   ],
   "source": [
    "#팬시색인\n",
    "print(f'a1[[2,0]]:{a1[[2,0]]}')\n",
    "print(f'a2[[1,0],[1,2]]:{a2[[1,0],[1,2]]}')"
   ]
  },
  {
   "cell_type": "markdown",
   "metadata": {},
   "source": [
    "### 유니버셜 함수\n",
    "* 1차원 : 증가하는 방향 (axis=0)\n",
    "* 2차원 : 행 증가하는 방향 (axis=0), 열 증가하는 방향(axis=1)\n",
    "* 브로드캐스팅    "
   ]
  },
  {
   "cell_type": "code",
   "execution_count": null,
   "metadata": {},
   "outputs": [],
   "source": [
    "a2.sum(0) # 행증가하는 방향 : 열 병합"
   ]
  },
  {
   "cell_type": "code",
   "execution_count": null,
   "metadata": {},
   "outputs": [],
   "source": [
    "a2.sum(1) # 열증가하는 방향 : 행 병합"
   ]
  },
  {
   "cell_type": "markdown",
   "metadata": {},
   "source": [
    "\n",
    "## matrix  array 비교"
   ]
  },
  {
   "cell_type": "code",
   "execution_count": 16,
   "metadata": {},
   "outputs": [],
   "source": [
    "from numpy import matrix, array\n",
    "m1 = matrix([1,2,3])\n",
    "a1 = array([1,2,3])"
   ]
  },
  {
   "cell_type": "code",
   "execution_count": 17,
   "metadata": {},
   "outputs": [
    {
     "data": {
      "text/plain": [
       "(1, 3)"
      ]
     },
     "execution_count": 17,
     "metadata": {},
     "output_type": "execute_result"
    }
   ],
   "source": [
    "m1.shape"
   ]
  },
  {
   "cell_type": "code",
   "execution_count": 18,
   "metadata": {},
   "outputs": [
    {
     "data": {
      "text/plain": [
       "matrix([[1],\n",
       "        [2],\n",
       "        [3]])"
      ]
     },
     "execution_count": 18,
     "metadata": {},
     "output_type": "execute_result"
    }
   ],
   "source": [
    "m1.T"
   ]
  },
  {
   "cell_type": "code",
   "execution_count": 19,
   "metadata": {},
   "outputs": [
    {
     "data": {
      "text/plain": [
       "(3,)"
      ]
     },
     "execution_count": 19,
     "metadata": {},
     "output_type": "execute_result"
    }
   ],
   "source": [
    "a1.shape"
   ]
  },
  {
   "cell_type": "code",
   "execution_count": 20,
   "metadata": {},
   "outputs": [
    {
     "data": {
      "text/plain": [
       "array([1, 2, 3])"
      ]
     },
     "execution_count": 20,
     "metadata": {},
     "output_type": "execute_result"
    }
   ],
   "source": [
    "a1.T"
   ]
  },
  {
   "cell_type": "markdown",
   "metadata": {},
   "source": [
    "\n",
    "# numpy 이용 로또 번호 추출기"
   ]
  },
  {
   "cell_type": "code",
   "execution_count": 22,
   "metadata": {},
   "outputs": [
    {
     "data": {
      "text/plain": [
       "array([33,  5, 35, 40, 20,  2, 17, 25, 30, 31, 39, 13, 16, 38, 18, 36, 24,\n",
       "       10,  6,  7, 14, 32,  3, 45, 21, 28, 44,  4, 11, 12, 27, 15, 29,  9,\n",
       "       37, 23,  1, 42, 41, 22, 43, 26, 34,  8, 19])"
      ]
     },
     "execution_count": 22,
     "metadata": {},
     "output_type": "execute_result"
    }
   ],
   "source": [
    "from numpy.random import permutation\n",
    "permutation(45) + 1 # 1부터 45까지 # 로또 1부터 45까지이므로"
   ]
  },
  {
   "cell_type": "code",
   "execution_count": 23,
   "metadata": {},
   "outputs": [
    {
     "data": {
      "text/plain": [
       "array([43, 40, 16, 13, 29, 33])"
      ]
     },
     "execution_count": 23,
     "metadata": {},
     "output_type": "execute_result"
    }
   ],
   "source": [
    "(permutation(45)+1)[:6] #45개중에서 6개만 추출"
   ]
  },
  {
   "cell_type": "code",
   "execution_count": 24,
   "metadata": {},
   "outputs": [
    {
     "name": "stdout",
     "output_type": "stream",
     "text": [
      "[45 14 38  4 20 32]\n",
      "[32 29 36 12 19 30]\n",
      "[45 39 37 31 33 25]\n",
      "[27  6 17 45 21 39]\n",
      "[ 2 30 24 41 25 45]\n",
      "[28 35  2  8 19  3]\n",
      "[38  2 15  7 24 22]\n",
      "[ 5 42 36 13  8  1]\n",
      "[ 5 28  3  1 32 24]\n",
      "[27 19 28 39 15 32]\n"
     ]
    }
   ],
   "source": [
    "for _ in range(10):\n",
    "    print((permutation(45)+1)[:6])"
   ]
  },
  {
   "cell_type": "code",
   "execution_count": 28,
   "metadata": {},
   "outputs": [
    {
     "ename": "TypeError",
     "evalue": "'int' object is not subscriptable",
     "output_type": "error",
     "traceback": [
      "\u001b[1;31m---------------------------------------------------------------------------\u001b[0m",
      "\u001b[1;31mTypeError\u001b[0m                                 Traceback (most recent call last)",
      "\u001b[1;32m<ipython-input-28-23cbc9b31217>\u001b[0m in \u001b[0;36m<module>\u001b[1;34m\u001b[0m\n\u001b[1;32m----> 1\u001b[1;33m \u001b[1;33m(\u001b[0m\u001b[0mnp\u001b[0m\u001b[1;33m.\u001b[0m\u001b[0mrandom\u001b[0m\u001b[1;33m.\u001b[0m\u001b[0mrandint\u001b[0m\u001b[1;33m(\u001b[0m\u001b[1;36m1\u001b[0m\u001b[1;33m,\u001b[0m \u001b[1;36m45\u001b[0m\u001b[1;33m)\u001b[0m\u001b[1;33m)\u001b[0m\u001b[1;33m[\u001b[0m\u001b[1;33m:\u001b[0m\u001b[1;36m6\u001b[0m\u001b[1;33m]\u001b[0m\u001b[1;33m\u001b[0m\u001b[1;33m\u001b[0m\u001b[0m\n\u001b[0m",
      "\u001b[1;31mTypeError\u001b[0m: 'int' object is not subscriptable"
     ]
    }
   ],
   "source": [
    "(np.random.randint(1, 45))[:6]"
   ]
  },
  {
   "cell_type": "code",
   "execution_count": null,
   "metadata": {},
   "outputs": [],
   "source": []
  }
 ],
 "metadata": {
  "kernelspec": {
   "display_name": "Python 3",
   "language": "python",
   "name": "python3"
  },
  "language_info": {
   "codemirror_mode": {
    "name": "ipython",
    "version": 3
   },
   "file_extension": ".py",
   "mimetype": "text/x-python",
   "name": "python",
   "nbconvert_exporter": "python",
   "pygments_lexer": "ipython3",
   "version": "3.7.3"
  }
 },
 "nbformat": 4,
 "nbformat_minor": 2
}
