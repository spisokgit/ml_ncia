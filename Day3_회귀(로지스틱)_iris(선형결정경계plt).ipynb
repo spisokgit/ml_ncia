{
 "cells": [
  {
   "cell_type": "code",
   "execution_count": 1,
   "metadata": {},
   "outputs": [],
   "source": [
    "from sklearn.datasets import load_iris\n",
    "import numpy as np\n",
    "iris_data = load_iris()\n",
    "X = iris_data.data[:, 3:] # 팬시색인은 차원축소 # 슬라이싱은 차원축소 없음 2차원이 필요함 # 꽃입의 너비\n",
    "y = (iris_data['target']==2).astype(np.int) # 다항(3개) -> 이진분류를 위해 불리언색인 Virginica이면 1, 아니면 0로 변환"
   ]
  },
  {
   "cell_type": "code",
   "execution_count": 2,
   "metadata": {},
   "outputs": [
    {
     "name": "stdout",
     "output_type": "stream",
     "text": [
      "type(iris_data) : <class 'sklearn.utils.Bunch'>\n",
      "iris_data.keys() : dict_keys(['data', 'target', 'target_names', 'DESCR', 'feature_names', 'filename'])\n",
      "iris_data.data : (150, 4)\n",
      "X.shape : (150, 1)\n",
      "y.shape : (150,)\n",
      "X[:5]:\n",
      "[[0.2]\n",
      " [0.2]\n",
      " [0.2]\n",
      " [0.2]\n",
      " [0.2]]\n"
     ]
    }
   ],
   "source": [
    "print(f'type(iris_data) : {type(iris_data)}')\n",
    "print(f'iris_data.keys() : {iris_data.keys()}')\n",
    "print(f'iris_data.data : {iris_data.data.shape}')\n",
    "print(f'X.shape : {X.shape}')\n",
    "print(f'y.shape : {y.shape}')\n",
    "print(f'X[:5]:\\n{X[:5]}')"
   ]
  },
  {
   "cell_type": "code",
   "execution_count": 3,
   "metadata": {},
   "outputs": [
    {
     "name": "stdout",
     "output_type": "stream",
     "text": [
      "type(sss) : <class 'sklearn.model_selection._split.StratifiedShuffleSplit'>\n",
      "sss.get_n_splits(X,y) : 3\n",
      "type sss.split(X,y) : <class 'generator'>\n",
      "train_index : [ 33 106  54  55  19 146  25 133 135 117 105  48  62  58  43  11   0 108\n",
      " 137  69  81  77 131  80  89 103 111  22 121  16  93   8  68  31 139 148\n",
      "  49  61 144  56   4  13  88 130  28  44 101  65  76  18  45  50 100  57\n",
      "  15 149  17 136  12 142  85  32 113  26  38  46 122  59  78 115  53  35\n",
      "  30 119  64 129   3 145 123  94  42 114  24  66 120  10 109  41  97  70\n",
      "  75 110  40  83 124 118 112  98 126  72 143  95 125 102  39   6  99  27\n",
      "  34  67  96 128  36  79  47  73   5   9   7  90]\n",
      ", test_index:[ 87 127  86  82  21  20  84   1 147  74 107 141 104  14  52  29   2  71\n",
      "  91 138  63 140  51 134 132  60  92  37 116  23]\n",
      "train_index : [  5  89 104 139 110 107 149 109  51  68  93  88  25  87 134  90   3  24\n",
      "  72  46 106  55  64  22  74  35 114  37 145  97   4 120  99  85  15  76\n",
      "  39 117  69 143  54  44 126  52 136  62  71  82 146  12 113  80  92 128\n",
      " 137  77   1 103  33 138  73  84 102   2  63  34  83  31 129  43  27 115\n",
      "  78  57  65  50  41  14   0 135  38 148  59  28  49 111  36  42 116  95\n",
      "   8  81  17 125  56 108 147 119 140 112  86 100  30 132 123  53   9  45\n",
      " 130 118  23  11  61  26  18 141  10  98  48  70]\n",
      ", test_index:[ 29 131  66  21  94   6  19 127 144 121  40  32 133   7 142  20  16 124\n",
      "  75  47  58  91 105  67  96 122  60  79  13 101]\n",
      "train_index : [120 145  42  81  59  62  15  23  35  97  79 129 138 124  43 147  52  53\n",
      " 148   0  38  11 121  31 111   9  21  71 130  13  46  68  66  51 105 131\n",
      " 102  91  10 103   1 122  32  98  47 109 107  76  83  72  20  55  25 134\n",
      "  90 139  74  22  63  19 137 106 144  67  94 100  56 142 104 115 123  58\n",
      "  27  96  54 118 149  89  75 136  69  77  86  70  92   5 101  40  95 110\n",
      " 125  85  24  29   2 114  78  84  60 146 141  17  14  93  61  50   3  87\n",
      "  48  33 140  18  44 113  88 133 117  30  34  80]\n",
      ", test_index:[  6  26  49 126  36 116 128  41  28  73  57 135   4 119 108  99 112  39\n",
      "   7 143  12 127  45   8  82  16  65  64  37 132]\n",
      "X_train[:5] :\n",
      " [[2.3]\n",
      " [2.3]\n",
      " [0.2]\n",
      " [1. ]\n",
      " [1.4]]\n"
     ]
    }
   ],
   "source": [
    "# 계층적 샘플링(Stratified Sampling)  훈련데이터와 시험데이터를 라벨별 비율을 유지하면서 나눔\n",
    "# 지금 X데이터들이 0.2만 일련순으로 있으므로 훈련데이터 섞는데 있어 폴드를 사용해야 함\n",
    "from sklearn.model_selection import StratifiedShuffleSplit\n",
    "sss = StratifiedShuffleSplit(n_splits=3, test_size=0.2, random_state=42)\n",
    "print(f'type(sss) : {type(sss)}')\n",
    "print(f'sss.get_n_splits(X,y) : {sss.get_n_splits(X,y)}')\n",
    "\n",
    "# KFold객체의 split( ) 호출하면 폴드 별 학습용, 검증용 테스트의 로우 인덱스를 array로 반환 \n",
    "print(f'type sss.split(X,y) : {type(sss.split(X,y))}') # <class 'generator'>\n",
    "for train_index, test_index in sss.split(X,y):\n",
    "    print(f'train_index : {train_index}\\n, test_index:{test_index}')\n",
    "    X_train, X_test = X[train_index], X[test_index]\n",
    "    y_train, y_test = y[train_index], y[test_index]  \n",
    "print(f'X_train[:5] :\\n {X_train[:5]}')"
   ]
  },
  {
   "cell_type": "code",
   "execution_count": 4,
   "metadata": {},
   "outputs": [],
   "source": [
    "#StratifiedShuffleSplit?"
   ]
  },
  {
   "cell_type": "code",
   "execution_count": 5,
   "metadata": {},
   "outputs": [
    {
     "data": {
      "text/plain": [
       "LogisticRegression(C=1.0, class_weight=None, dual=False, fit_intercept=True,\n",
       "                   intercept_scaling=1, l1_ratio=None, max_iter=100,\n",
       "                   multi_class='auto', n_jobs=None, penalty='l2',\n",
       "                   random_state=None, solver='lbfgs', tol=0.0001, verbose=0,\n",
       "                   warm_start=False)"
      ]
     },
     "execution_count": 5,
     "metadata": {},
     "output_type": "execute_result"
    }
   ],
   "source": [
    "from sklearn.linear_model import LogisticRegression\n",
    "log_reg = LogisticRegression()\n",
    "log_reg.fit(X_train, y_train)"
   ]
  },
  {
   "cell_type": "code",
   "execution_count": 6,
   "metadata": {},
   "outputs": [
    {
     "data": {
      "text/plain": [
       "0.9666666666666667"
      ]
     },
     "execution_count": 6,
     "metadata": {},
     "output_type": "execute_result"
    }
   ],
   "source": [
    "log_reg.score(X_test, y_test)"
   ]
  },
  {
   "cell_type": "code",
   "execution_count": 7,
   "metadata": {},
   "outputs": [
    {
     "data": {
      "text/plain": [
       "array([1, 0, 0, 1])"
      ]
     },
     "execution_count": 7,
     "metadata": {},
     "output_type": "execute_result"
    }
   ],
   "source": [
    "log_reg.predict(X_test[16:20])"
   ]
  },
  {
   "cell_type": "markdown",
   "metadata": {},
   "source": [
    "\n",
    "## 꽃잎의 너비가 0 - 3cm인 꽃에 대해 선형 결정 경계 찾기"
   ]
  },
  {
   "cell_type": "code",
   "execution_count": 12,
   "metadata": {},
   "outputs": [
    {
     "name": "stdout",
     "output_type": "stream",
     "text": [
      "y_proba\n",
      "[[0.99891328 0.00108672]\n",
      " [0.99890007 0.00109993]\n",
      " [0.9988867  0.0011133 ]\n",
      " ...\n",
      " [0.00529462 0.99470538]\n",
      " [0.00523129 0.99476871]\n",
      " [0.00516873 0.99483127]], y_proba.shape(y_proba):(1000, 2)\n"
     ]
    }
   ],
   "source": [
    "x_new = np.linspace(0, 3, 1000).reshape(-1,1)\n",
    "y_proba = log_reg.predict_proba(x_new) #예측값을 확률로 반환\n",
    "print(f'y_proba\\n{y_proba}, y_proba.shape(y_proba):{y_proba.shape}')"
   ]
  },
  {
   "cell_type": "code",
   "execution_count": 17,
   "metadata": {},
   "outputs": [
    {
     "data": {
      "text/plain": [
       "<matplotlib.legend.Legend at 0x1403b4a8>"
      ]
     },
     "execution_count": 17,
     "metadata": {},
     "output_type": "execute_result"
    },
    {
     "data": {
      "image/png": "[encoded data removed]",
      "text/plain": [
       "<Figure size 432x288 with 1 Axes>"
      ]
     },
     "metadata": {
      "needs_background": "light"
     },
     "output_type": "display_data"
    }
   ],
   "source": [
    "import matplotlib.pyplot as plt\n",
    "plt.plot(x_new, y_proba[:,1], 'g-', label='Iris-Virginica')\n",
    "plt.plot(x_new, y_proba[:,0], 'b--', label='Not Iris-Virginica')\n",
    "plt.legend(loc='best')"
   ]
  },
  {
   "cell_type": "code",
   "execution_count": 30,
   "metadata": {},
   "outputs": [
    {
     "data": {
      "text/plain": [
       "array([1, 0])"
      ]
     },
     "execution_count": 30,
     "metadata": {},
     "output_type": "execute_result"
    }
   ],
   "source": [
    "log_reg.predict([[1.7],[1.5]])"
   ]
  },
  {
   "cell_type": "markdown",
   "metadata": {},
   "source": [
    "\n",
    "## 다항 로지스틱 회귀(소프트맥스 회귀)"
   ]
  },
  {
   "cell_type": "code",
   "execution_count": 20,
   "metadata": {},
   "outputs": [
    {
     "name": "stdout",
     "output_type": "stream",
     "text": [
      "[[1.4 0.2]\n",
      " [1.4 0.2]\n",
      " [1.3 0.2]\n",
      " [1.5 0.2]\n",
      " [1.4 0.2]] (150, 2)\n"
     ]
    }
   ],
   "source": [
    "from sklearn.datasets import load_iris\n",
    "import numpy as np\n",
    "iris = load_iris()\n",
    "X = iris[\"data\"][:, (2,3)] #petal length, petal width\n",
    "y = iris[\"target\"]\n",
    "print(X[:5], X.shape)"
   ]
  },
  {
   "cell_type": "code",
   "execution_count": 28,
   "metadata": {},
   "outputs": [
    {
     "name": "stderr",
     "output_type": "stream",
     "text": [
      "[Parallel(n_jobs=1)]: Using backend SequentialBackend with 1 concurrent workers.\n",
      "[Parallel(n_jobs=1)]: Done   1 out of   1 | elapsed:    0.0s finished\n"
     ]
    },
    {
     "data": {
      "text/plain": [
       "LogisticRegression(C=10, class_weight=None, dual=False, fit_intercept=True,\n",
       "                   intercept_scaling=1, l1_ratio=None, max_iter=100,\n",
       "                   multi_class='multinomial', n_jobs=None, penalty='l2',\n",
       "                   random_state=None, solver='lbfgs', tol=0.0001, verbose=1,\n",
       "                   warm_start=False)"
      ]
     },
     "execution_count": 28,
     "metadata": {},
     "output_type": "execute_result"
    }
   ],
   "source": [
    "softmax_reg = LogisticRegression(multi_class = \"multinomial\", solver=\"lbfgs\", C=10, verbose=1) # c L2 규제, \n",
    "softmax_reg.fit(X,y)"
   ]
  },
  {
   "cell_type": "code",
   "execution_count": 29,
   "metadata": {},
   "outputs": [
    {
     "data": {
      "text/plain": [
       "array([[-4.58614563, -2.24129385],\n",
       "       [ 0.16068263, -2.15860167],\n",
       "       [ 4.425463  ,  4.39989552]])"
      ]
     },
     "execution_count": 29,
     "metadata": {},
     "output_type": "execute_result"
    }
   ],
   "source": [
    "softmax_reg.coef_ #"
   ]
  },
  {
   "cell_type": "code",
   "execution_count": 27,
   "metadata": {},
   "outputs": [
    {
     "data": {
      "text/plain": [
       "array([ 18.87514796,   6.3844344 , -25.25958236])"
      ]
     },
     "execution_count": 27,
     "metadata": {},
     "output_type": "execute_result"
    }
   ],
   "source": [
    "softmax_reg.intercept_"
   ]
  },
  {
   "cell_type": "code",
   "execution_count": 24,
   "metadata": {
    "scrolled": true
   },
   "outputs": [
    {
     "data": {
      "text/plain": [
       "array([[6.38014896e-07, 5.74929995e-02, 9.42506362e-01]])"
      ]
     },
     "execution_count": 24,
     "metadata": {},
     "output_type": "execute_result"
    }
   ],
   "source": [
    "softmax_reg.predict_proba([[5,2]]) # 확률 반환"
   ]
  },
  {
   "cell_type": "code",
   "execution_count": 25,
   "metadata": {},
   "outputs": [
    {
     "data": {
      "text/plain": [
       "array([2])"
      ]
     },
     "execution_count": 25,
     "metadata": {},
     "output_type": "execute_result"
    }
   ],
   "source": [
    "softmax_reg.predict([[5,2]]) # 인덱스 반환"
   ]
  },
  {
   "cell_type": "code",
   "execution_count": null,
   "metadata": {},
   "outputs": [],
   "source": []
  }
 ],
 "metadata": {
  "kernelspec": {
   "display_name": "Python 3",
   "language": "python",
   "name": "python3"
  },
  "language_info": {
   "codemirror_mode": {
    "name": "ipython",
    "version": 3
   },
   "file_extension": ".py",
   "mimetype": "text/x-python",
   "name": "python",
   "nbconvert_exporter": "python",
   "pygments_lexer": "ipython3",
   "version": "3.7.3"
  }
 },
 "nbformat": 4,
 "nbformat_minor": 2
}
