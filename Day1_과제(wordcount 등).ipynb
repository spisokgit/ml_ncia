{
 "cells": [
  {
   "cell_type": "markdown",
   "metadata": {},
   "source": [
    "\n",
    "#### $x^2$- $x$ - $2$ = 0 이차방정식의 해  \n",
    "#### $x = \\frac{-b \\pm \\sqrt{b^2-4ac}}{2a}$"
   ]
  },
  {
   "cell_type": "code",
   "execution_count": null,
   "metadata": {},
   "outputs": [],
   "source": [
    "\n",
    "import math\n",
    "a=1.0\n",
    "b=-1.0\n",
    "c=-2.0\n",
    "z = math.sqrt(b**2-4*a*c)#  math.sqrt() 루트\n",
    "x1=(-1+z)/(2*a)\n",
    "x2=(-1-z)/(2*a)\n",
    "print(f'x1:{x1}, x2:{x2}')"
   ]
  },
  {
   "cell_type": "markdown",
   "metadata": {},
   "source": [
    "\n",
    "## List comprihansion 리스트 내포"
   ]
  },
  {
   "cell_type": "code",
   "execution_count": null,
   "metadata": {},
   "outputs": [],
   "source": [
    "lst1 = [1,2,3]\n",
    "y=[]\n",
    "for x in lst1:\n",
    "   y.append(x**2) \n",
    "print(y)"
   ]
  },
  {
   "cell_type": "code",
   "execution_count": null,
   "metadata": {},
   "outputs": [],
   "source": [
    "lst1 = [1,2,3]\n",
    "lst2=[x**2 for x in lst1]\n",
    "print(lst2)"
   ]
  },
  {
   "cell_type": "code",
   "execution_count": null,
   "metadata": {},
   "outputs": [],
   "source": [
    "lst3=[(x,x**2) for x in lst2 if x<5 ]\n",
    "print(lst3)"
   ]
  },
  {
   "cell_type": "code",
   "execution_count": null,
   "metadata": {
    "scrolled": true
   },
   "outputs": [],
   "source": [
    "lst4=[x*y[0] for x in lst2 for y in lst3]\n",
    "print(lst4) # [x, x*y[0]]"
   ]
  },
  {
   "cell_type": "code",
   "execution_count": null,
   "metadata": {
    "scrolled": true
   },
   "outputs": [],
   "source": [
    "lst4=[x*y[0] for x in lst2 for y in lst3]\n",
    "print(lst4) # [x, x*y[0]]"
   ]
  },
  {
   "cell_type": "markdown",
   "metadata": {},
   "source": [
    "\n",
    "# 과제\n",
    "# l1, l2 같은 값 삭제"
   ]
  },
  {
   "cell_type": "code",
   "execution_count": null,
   "metadata": {},
   "outputs": [],
   "source": [
    "l1 = ['a','b','c','d','a','b','a','b'] # l1=list('abcdabab')\n",
    "l2 = ['b','a']"
   ]
  },
  {
   "cell_type": "code",
   "execution_count": null,
   "metadata": {},
   "outputs": [],
   "source": [
    "#l3=[for x in l1 for y in l2]"
   ]
  },
  {
   "cell_type": "code",
   "execution_count": null,
   "metadata": {},
   "outputs": [],
   "source": [
    "for x in l2:\n",
    "    for y in l1:\n",
    "        if x==y:\n",
    "            l1.remove(y)\n",
    "            continue\n",
    "l1  # ['c', 'd', 'a']"
   ]
  },
  {
   "cell_type": "code",
   "execution_count": null,
   "metadata": {},
   "outputs": [],
   "source": [
    "#샘\n",
    "for c in l2:\n",
    "    while c in l1:\n",
    "        l1.remove(c)\n",
    "l1"
   ]
  },
  {
   "cell_type": "code",
   "execution_count": null,
   "metadata": {},
   "outputs": [],
   "source": [
    "#샘 - me\n",
    "for c in l1: # error발생\n",
    "    while c in l2:\n",
    "        l1.remove(c)\n",
    "l1"
   ]
  },
  {
   "cell_type": "markdown",
   "metadata": {},
   "source": [
    "\n",
    "## 과제   :   사전이용 문자열에서 알파벳 빈도 카운트"
   ]
  },
  {
   "cell_type": "code",
   "execution_count": 1,
   "metadata": {},
   "outputs": [
    {
     "data": {
      "text/plain": [
       "{'l': 1,\n",
       " 'i': 3,\n",
       " 'f': 1,\n",
       " 'e': 2,\n",
       " 's': 5,\n",
       " 'h': 2,\n",
       " 'o': 3,\n",
       " 'r': 1,\n",
       " 't': 2,\n",
       " 'p': 1,\n",
       " 'y': 2,\n",
       " 'n': 1,\n",
       " 'a': 1}"
      ]
     },
     "execution_count": 1,
     "metadata": {},
     "output_type": "execute_result"
    }
   ],
   "source": [
    "s = 'life is short, so python is easy.'\n",
    "punct = ',. '\n",
    "d = {}\n",
    "for c in s: #s.split('') 공백으로 분리해서 리스트로 저장되므로 ==> 단어의 빈도 카운트\n",
    "    if c in punct:\n",
    "        continue\n",
    "    d[c] = d.get(c, 0) + 1 # d[c] c키값에 = get(c, 0)라는 값(value)을 지정하는데 c키값이 없다면 0\n",
    "d"
   ]
  },
  {
   "cell_type": "code",
   "execution_count": null,
   "metadata": {},
   "outputs": [],
   "source": [
    "s = 'life is short, so python is easy.'\n",
    "punct = ',. '#'스페이스' 있음\n",
    "d = {}\n",
    "for c in s.split(' '): #' '스페이스주어야 함\n",
    "    if c in punct:\n",
    "        continue\n",
    "    d[c] = d.get(c, 0) + 1 \n",
    "d"
   ]
  },
  {
   "cell_type": "code",
   "execution_count": 9,
   "metadata": {},
   "outputs": [
    {
     "name": "stdout",
     "output_type": "stream",
     "text": [
      "[('is', 2), ('life', 1), ('short,', 1), ('so', 1), ('python', 1), ('easy.', 1)]\n",
      " is\n"
     ]
    }
   ],
   "source": [
    "s = 'life is short, so python is easy.'\n",
    "punct = ',. '#'스페이스' 있음\n",
    "d = {}\n",
    "for c in s.split(' '): #' '스페이스주어야 함\n",
    "    if c in punct:\n",
    "        continue\n",
    "    d[c] = d.get(c, 0) + 1 \n",
    "\n",
    "lst = sorted(d.items(), key=lambda x:x[1], reverse=True)\n",
    "#sorted(d.items(), key=lambda x:x[1], reverse=True)[0][0] # 'is' #reverse=True 내림차순(높은것이 위로)\n",
    "# key=lambda x:x[1] ==> value값으로 정렬하겠다. x[0]이면 key값으로 정렬하겠다.\n",
    "# d는 딕셔녀리이고 # sorted된 리턴값은 list이므로\n",
    "#sorted(iterable, /, *, key=None, reverse=False)\n",
    "print(f'{lst}\\n {lst[0][0]}') # [('is', 2), ('life', 1), ('short,', 1), ('so', 1), ('python', 1), ('easy.', 1)]\n"
   ]
  },
  {
   "cell_type": "code",
   "execution_count": 12,
   "metadata": {},
   "outputs": [
    {
     "ename": "SyntaxError",
     "evalue": "invalid syntax (<ipython-input-12-c836c00c1b8b>, line 4)",
     "output_type": "error",
     "traceback": [
      "\u001b[1;36m  File \u001b[1;32m\"<ipython-input-12-c836c00c1b8b>\"\u001b[1;36m, line \u001b[1;32m4\u001b[0m\n\u001b[1;33m    [(d[c] = d.get(c, 0) + 1) for c in s.split(' ') if c in punct:continue]\u001b[0m\n\u001b[1;37m           ^\u001b[0m\n\u001b[1;31mSyntaxError\u001b[0m\u001b[1;31m:\u001b[0m invalid syntax\n"
     ]
    }
   ],
   "source": [
    "s = 'life is short, so python is easy.'\n",
    "punct = ',. '#'스페이스' 있음\n",
    "d = {}\n",
    "[(d[c] = d.get(c, 0) + 1) for c in s.split(' ') if c in punct:continue]\n",
    "# d 딕셔너리이므로 리스트내포를 사용할 수 없다."
   ]
  },
  {
   "cell_type": "markdown",
   "metadata": {},
   "source": [
    "\n",
    "## 과제 : 텍스트파일을 열어 WordCount 결과 반환"
   ]
  },
  {
   "cell_type": "code",
   "execution_count": 3,
   "metadata": {},
   "outputs": [
    {
     "data": {
      "text/plain": [
       "'the'"
      ]
     },
     "execution_count": 3,
     "metadata": {},
     "output_type": "execute_result"
    }
   ],
   "source": [
    "with open('ihaveadream.txt') as f:\n",
    "    dream = f.read() # read()전체문자열리턴, readline()한줄씩문자열, readlines()전체list\n",
    "    punct = ',. '#'스페이스' 있음\n",
    "    d = {}\n",
    "    for c in dream.split(' '): #' '스페이스주어야 함\n",
    "        if c in punct:\n",
    "            continue\n",
    "        d[c] = d.get(c, 0) + 1\n",
    "lst = sorted(d.items(), key=lambda x:x[1], reverse=True)\n",
    "lst[0][0]"
   ]
  },
  {
   "cell_type": "code",
   "execution_count": 6,
   "metadata": {},
   "outputs": [
    {
     "data": {
      "text/plain": [
       "'freedom'"
      ]
     },
     "execution_count": 6,
     "metadata": {},
     "output_type": "execute_result"
    }
   ],
   "source": [
    "with open('ihaveadream.txt') as f:\n",
    "    dream = f.read()\n",
    "with open('stopwords.txt') as fs:\n",
    "    stopwords = fs.read().split('\\n\\n')\n",
    "    d = {}\n",
    "    for c in dream.split(' '):\n",
    "        if c in stopwords:\n",
    "            continue\n",
    "        d[c] = d.get(c, 0) + 1\n",
    "lst = sorted(d.items(), key=lambda x:x[1], reverse=True)\n",
    "lst[0][0]"
   ]
  },
  {
   "cell_type": "code",
   "execution_count": 11,
   "metadata": {},
   "outputs": [
    {
     "name": "stdout",
     "output_type": "stream",
     "text": [
      "('freedom', 19)\n"
     ]
    }
   ],
   "source": [
    "with open('ihaveadream.txt') as f:\n",
    "    dream = f.read()\n",
    "with open('stopwords.txt') as fs:\n",
    "    stopwords = fs.read().split('\\n\\n')\n",
    "    d = {}\n",
    "    for c in dream.split(' '): #dream.replace('\\n\\n', ' ).split(' ')\n",
    "        if c in stopwords:\n",
    "            continue\n",
    "        d[c] = d.get(c, 0) + 1\n",
    "with open('result.txt', 'w') as fo:\n",
    "    result = sorted(d.items(), key=lambda x:x[1], reverse=True)[0] # [0][1] int이므로  str(result)\n",
    "    fo.write(str(result))\n",
    "!type result.txt"
   ]
  },
  {
   "cell_type": "code",
   "execution_count": 15,
   "metadata": {},
   "outputs": [
    {
     "ename": "NameError",
     "evalue": "name 'operator' is not defined",
     "output_type": "error",
     "traceback": [
      "\u001b[1;31m---------------------------------------------------------------------------\u001b[0m",
      "\u001b[1;31mNameError\u001b[0m                                 Traceback (most recent call last)",
      "\u001b[1;32m<ipython-input-15-cd3391b94972>\u001b[0m in \u001b[0;36m<module>\u001b[1;34m\u001b[0m\n\u001b[0;32m     20\u001b[0m     \u001b[0mprint\u001b[0m\u001b[1;33m(\u001b[0m\u001b[0msortedlist\u001b[0m\u001b[1;33m)\u001b[0m\u001b[1;33m\u001b[0m\u001b[1;33m\u001b[0m\u001b[0m\n\u001b[0;32m     21\u001b[0m     \u001b[1;32mreturn\u001b[0m \u001b[0msortedlist\u001b[0m\u001b[1;33m[\u001b[0m\u001b[1;36m0\u001b[0m\u001b[1;33m]\u001b[0m\u001b[1;33m[\u001b[0m\u001b[1;36m0\u001b[0m\u001b[1;33m]\u001b[0m\u001b[1;33m\u001b[0m\u001b[1;33m\u001b[0m\u001b[0m\n\u001b[1;32m---> 22\u001b[1;33m \u001b[0mmajorityCnt\u001b[0m\u001b[1;33m(\u001b[0m\u001b[0md\u001b[0m\u001b[1;33m)\u001b[0m\u001b[1;33m\u001b[0m\u001b[1;33m\u001b[0m\u001b[0m\n\u001b[0m",
      "\u001b[1;32m<ipython-input-15-cd3391b94972>\u001b[0m in \u001b[0;36mmajorityCnt\u001b[1;34m(d)\u001b[0m\n\u001b[0;32m     16\u001b[0m \u001b[1;31m# print(d)\u001b[0m\u001b[1;33m\u001b[0m\u001b[1;33m\u001b[0m\u001b[1;33m\u001b[0m\u001b[0m\n\u001b[0;32m     17\u001b[0m \u001b[1;32mdef\u001b[0m \u001b[0mmajorityCnt\u001b[0m\u001b[1;33m(\u001b[0m\u001b[0md\u001b[0m\u001b[1;33m)\u001b[0m\u001b[1;33m:\u001b[0m\u001b[1;33m\u001b[0m\u001b[1;33m\u001b[0m\u001b[0m\n\u001b[1;32m---> 18\u001b[1;33m     \u001b[0msortedlist\u001b[0m \u001b[1;33m=\u001b[0m \u001b[0msorted\u001b[0m\u001b[1;33m(\u001b[0m\u001b[0md\u001b[0m\u001b[1;33m.\u001b[0m\u001b[0mitems\u001b[0m\u001b[1;33m(\u001b[0m\u001b[1;33m)\u001b[0m\u001b[1;33m,\u001b[0m \u001b[0mkey\u001b[0m\u001b[1;33m=\u001b[0m\u001b[0moperator\u001b[0m\u001b[1;33m.\u001b[0m\u001b[0mitemgetter\u001b[0m\u001b[1;33m(\u001b[0m\u001b[1;36m1\u001b[0m\u001b[1;33m)\u001b[0m\u001b[1;33m,\u001b[0m \u001b[0mreverse\u001b[0m\u001b[1;33m=\u001b[0m\u001b[1;32mTrue\u001b[0m\u001b[1;33m)\u001b[0m\u001b[1;33m\u001b[0m\u001b[1;33m\u001b[0m\u001b[0m\n\u001b[0m\u001b[0;32m     19\u001b[0m                                    \u001b[1;31m# key=operator.itemgetter(1) => values 기준으로 정렬\u001b[0m\u001b[1;33m\u001b[0m\u001b[1;33m\u001b[0m\u001b[1;33m\u001b[0m\u001b[0m\n\u001b[0;32m     20\u001b[0m     \u001b[0mprint\u001b[0m\u001b[1;33m(\u001b[0m\u001b[0msortedlist\u001b[0m\u001b[1;33m)\u001b[0m\u001b[1;33m\u001b[0m\u001b[1;33m\u001b[0m\u001b[0m\n",
      "\u001b[1;31mNameError\u001b[0m: name 'operator' is not defined"
     ]
    }
   ],
   "source": [
    "# 저번수업\n",
    "with open('ihaveadream.txt', 'r', encoding='utf-8') as fo:\n",
    "    lines = fo.readlines()\n",
    "#    print(lines[:10])\n",
    "    \n",
    "# with open('stopwords.txt') as fo:\n",
    "#     lines2=fo.readlines()\n",
    "# stopwords = [l.strip() for l in lines2 if len(l.strip()) > 0]\n",
    "\n",
    "d={}\n",
    "for l in lines:\n",
    "    for w in l.strip().split(' '):\n",
    "#         if w in stopwords:\n",
    "#             continue\n",
    "        d[w]=d.get(w, 0) + 1\n",
    "    #d[i]=f_list.count(i)\n",
    "# print(d)\n",
    "def majorityCnt(d):\n",
    "    sortedlist = sorted(d.items(), key=operator.itemgetter(1), reverse=True) \n",
    "                                   # key=operator.itemgetter(1) => values 기준으로 정렬\n",
    "    print(sortedlist)\n",
    "    return sortedlist[0][0]\n",
    "majorityCnt(d)"
   ]
  },
  {
   "cell_type": "code",
   "execution_count": 19,
   "metadata": {},
   "outputs": [
    {
     "ename": "SyntaxError",
     "evalue": "invalid syntax (<ipython-input-19-8d5311557cc6>, line 23)",
     "output_type": "error",
     "traceback": [
      "\u001b[1;36m  File \u001b[1;32m\"<ipython-input-19-8d5311557cc6>\"\u001b[1;36m, line \u001b[1;32m23\u001b[0m\n\u001b[1;33m    fo.write('The most frequent word is \"' majorityCnt(d))\u001b[0m\n\u001b[1;37m                                                     ^\u001b[0m\n\u001b[1;31mSyntaxError\u001b[0m\u001b[1;31m:\u001b[0m invalid syntax\n"
     ]
    }
   ],
   "source": [
    "#저번 수업\n",
    "with open('ihaveadream.txt', 'r', encoding='utf-8') as fo:\n",
    "    lines1 = fo.readlines()\n",
    "\n",
    "with open('stopwords.txt') as fo:\n",
    "    lines2 = fo.readlines()\n",
    "stopwords = [l.strip() for l in lines2 if len(l.strip()) > 0] \n",
    "\n",
    "d={}\n",
    "for l in lines1:\n",
    "    for w in l.strip('\\n').split(' '): # 정규표현식 가능\n",
    "        if w in stopwords or len(w) <= 0:\n",
    "            continue\n",
    "        d[w] = d.get(w, o) + 1\n",
    "        \n",
    "def majorityCnt(d):\n",
    "    import operator\n",
    "    sortedlist = sorted(d.items(), key=operator.itemgetter(1), reverse=True) \n",
    "                                   # key=operator.itemgetter(1) => values 기준으로 정렬\n",
    "    # print(sortedlist)\n",
    "    return sortedlist[0][0]\n",
    "\n",
    "with open('result.txt', 'w') as fo:\n",
    "    fo.write('The most frequent word is \"' majorityCnt(d))"
   ]
  },
  {
   "cell_type": "code",
   "execution_count": null,
   "metadata": {},
   "outputs": [],
   "source": []
  }
 ],
 "metadata": {
  "kernelspec": {
   "display_name": "Python 3",
   "language": "python",
   "name": "python3"
  },
  "language_info": {
   "codemirror_mode": {
    "name": "ipython",
    "version": 3
   },
   "file_extension": ".py",
   "mimetype": "text/x-python",
   "name": "python",
   "nbconvert_exporter": "python",
   "pygments_lexer": "ipython3",
   "version": "3.7.3"
  }
 },
 "nbformat": 4,
 "nbformat_minor": 2
}
